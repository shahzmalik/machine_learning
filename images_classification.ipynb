{
 "cells": [
  {
   "cell_type": "code",
   "execution_count": 1,
   "id": "34ce1ea1",
   "metadata": {},
   "outputs": [],
   "source": [
    "import tensorflow as tf\n",
    "from tensorflow import keras\n",
    "import matplotlib.pyplot as plt\n",
    "import numpy as np"
   ]
  },
  {
   "cell_type": "code",
   "execution_count": 2,
   "id": "b4f385dd",
   "metadata": {},
   "outputs": [
    {
     "data": {
      "text/plain": [
       "[PhysicalDevice(name='/physical_device:CPU:0', device_type='CPU')]"
      ]
     },
     "execution_count": 2,
     "metadata": {},
     "output_type": "execute_result"
    }
   ],
   "source": [
    "tf.config.experimental.list_physical_devices()"
   ]
  },
  {
   "cell_type": "code",
   "execution_count": 3,
   "id": "4f6c1188",
   "metadata": {},
   "outputs": [
    {
     "name": "stdout",
     "output_type": "stream",
     "text": [
      "Downloading data from https://www.cs.toronto.edu/~kriz/cifar-10-python.tar.gz\n",
      "170498071/170498071 [==============================] - 39s 0us/step\n"
     ]
    }
   ],
   "source": [
    "(X_train, y_train), (X_test,y_test) = keras.datasets.cifar10.load_data()"
   ]
  },
  {
   "cell_type": "code",
   "execution_count": 19,
   "id": "45773a39",
   "metadata": {},
   "outputs": [],
   "source": [
    "def plotImage(index):\n",
    "    plt.figure(figsize=(10,4))\n",
    "    plt.imshow(X_train[index])    "
   ]
  },
  {
   "cell_type": "code",
   "execution_count": 24,
   "id": "8a3e44c3",
   "metadata": {},
   "outputs": [
    {
     "data": {
      "image/png": "[encoded data removed]",
      "text/plain": [
       "<Figure size 1000x400 with 1 Axes>"
      ]
     },
     "metadata": {},
     "output_type": "display_data"
    }
   ],
   "source": [
    "plotImage(4)"
   ]
  },
  {
   "cell_type": "code",
   "execution_count": 25,
   "id": "8858fd57",
   "metadata": {},
   "outputs": [],
   "source": [
    "classes = [\"airplane\",\"automobile\",\"bird\",\"cat\",\"deer\",\"dog\",\"frog\",\"horse\",\"ship\",\"truck\"]"
   ]
  },
  {
   "cell_type": "code",
   "execution_count": 30,
   "id": "8c0b81b9",
   "metadata": {},
   "outputs": [
    {
     "data": {
      "text/plain": [
       "1"
      ]
     },
     "execution_count": 30,
     "metadata": {},
     "output_type": "execute_result"
    }
   ],
   "source": [
    "y_train[4][0]"
   ]
  },
  {
   "cell_type": "code",
   "execution_count": 31,
   "id": "84e9b35a",
   "metadata": {},
   "outputs": [
    {
     "data": {
      "text/plain": [
       "'automobile'"
      ]
     },
     "execution_count": 31,
     "metadata": {},
     "output_type": "execute_result"
    }
   ],
   "source": [
    "classes[y_train[4][0]]"
   ]
  },
  {
   "cell_type": "code",
   "execution_count": 32,
   "id": "d2c4f8ed",
   "metadata": {},
   "outputs": [],
   "source": [
    "X_train_scaled = X_train / 255\n",
    "X_test_scaled = X_test / 255"
   ]
  },
  {
   "cell_type": "code",
   "execution_count": 34,
   "id": "417ceabf",
   "metadata": {},
   "outputs": [],
   "source": [
    "y_train_categorical = keras.utils.to_categorical(y_train, num_classes=10, dtype='float32')"
   ]
  },
  {
   "cell_type": "code",
   "execution_count": 44,
   "id": "9ab89d35",
   "metadata": {},
   "outputs": [],
   "source": [
    "y_test_categorical = keras.utils.to_categorical(y_test, num_classes=10, dtype='float32')"
   ]
  },
  {
   "cell_type": "code",
   "execution_count": 46,
   "id": "b9e7ddb4",
   "metadata": {},
   "outputs": [
    {
     "name": "stdout",
     "output_type": "stream",
     "text": [
      "Epoch 1/70\n",
      "1563/1563 [==============================] - 44s 28ms/step - loss: 1.8140 - accuracy: 0.3554\n",
      "Epoch 2/70\n",
      "1563/1563 [==============================] - 37s 24ms/step - loss: 1.6249 - accuracy: 0.4271\n",
      "Epoch 3/70\n",
      "1563/1563 [==============================] - 47s 30ms/step - loss: 1.5408 - accuracy: 0.4576\n",
      "Epoch 4/70\n",
      "1563/1563 [==============================] - 50s 32ms/step - loss: 1.4814 - accuracy: 0.4781\n",
      "Epoch 5/70\n",
      "1563/1563 [==============================] - 47s 30ms/step - loss: 1.4349 - accuracy: 0.4934\n",
      "Epoch 6/70\n",
      "1563/1563 [==============================] - 49s 31ms/step - loss: 1.3890 - accuracy: 0.5099\n",
      "Epoch 7/70\n",
      "1563/1563 [==============================] - 42s 27ms/step - loss: 1.3523 - accuracy: 0.5244\n",
      "Epoch 8/70\n",
      "1563/1563 [==============================] - 50s 32ms/step - loss: 1.3155 - accuracy: 0.5393\n",
      "Epoch 9/70\n",
      "1563/1563 [==============================] - 47s 30ms/step - loss: 1.2826 - accuracy: 0.5506\n",
      "Epoch 10/70\n",
      "1563/1563 [==============================] - 46s 29ms/step - loss: 1.2522 - accuracy: 0.5601\n",
      "Epoch 11/70\n",
      "1563/1563 [==============================] - 47s 30ms/step - loss: 1.2225 - accuracy: 0.5711\n",
      "Epoch 12/70\n",
      "1563/1563 [==============================] - 48s 31ms/step - loss: 1.1953 - accuracy: 0.5825\n",
      "Epoch 13/70\n",
      "1563/1563 [==============================] - 53s 34ms/step - loss: 1.1658 - accuracy: 0.5893\n",
      "Epoch 14/70\n",
      "1563/1563 [==============================] - 37s 24ms/step - loss: 1.1386 - accuracy: 0.6016\n",
      "Epoch 15/70\n",
      "1563/1563 [==============================] - 37s 23ms/step - loss: 1.1114 - accuracy: 0.6130\n",
      "Epoch 16/70\n",
      "1563/1563 [==============================] - 37s 24ms/step - loss: 1.0853 - accuracy: 0.6212\n",
      "Epoch 17/70\n",
      "1563/1563 [==============================] - 36s 23ms/step - loss: 1.0602 - accuracy: 0.6304\n",
      "Epoch 18/70\n",
      "1563/1563 [==============================] - 37s 24ms/step - loss: 1.0366 - accuracy: 0.6386\n",
      "Epoch 19/70\n",
      "1563/1563 [==============================] - 38s 24ms/step - loss: 1.0059 - accuracy: 0.6501\n",
      "Epoch 20/70\n",
      "1563/1563 [==============================] - 39s 25ms/step - loss: 0.9811 - accuracy: 0.6594\n",
      "Epoch 21/70\n",
      "1563/1563 [==============================] - 38s 24ms/step - loss: 0.9576 - accuracy: 0.6681\n",
      "Epoch 22/70\n",
      "1563/1563 [==============================] - 37s 24ms/step - loss: 0.9328 - accuracy: 0.6782\n",
      "Epoch 23/70\n",
      "1563/1563 [==============================] - 36s 23ms/step - loss: 0.9063 - accuracy: 0.6861\n",
      "Epoch 24/70\n",
      "1563/1563 [==============================] - 37s 24ms/step - loss: 0.8821 - accuracy: 0.6965\n",
      "Epoch 25/70\n",
      "1563/1563 [==============================] - 41s 26ms/step - loss: 0.8559 - accuracy: 0.7058\n",
      "Epoch 26/70\n",
      "1563/1563 [==============================] - 44s 28ms/step - loss: 0.8346 - accuracy: 0.7114\n",
      "Epoch 27/70\n",
      "1563/1563 [==============================] - 58s 37ms/step - loss: 0.8050 - accuracy: 0.7237\n",
      "Epoch 28/70\n",
      "1563/1563 [==============================] - 45s 29ms/step - loss: 0.7817 - accuracy: 0.7324\n",
      "Epoch 29/70\n",
      "1563/1563 [==============================] - 47s 30ms/step - loss: 0.7555 - accuracy: 0.7430\n",
      "Epoch 30/70\n",
      "1563/1563 [==============================] - 48s 31ms/step - loss: 0.7288 - accuracy: 0.7506\n",
      "Epoch 31/70\n",
      "1563/1563 [==============================] - 52s 34ms/step - loss: 0.7062 - accuracy: 0.7589\n",
      "Epoch 32/70\n",
      "1563/1563 [==============================] - 43s 27ms/step - loss: 0.6789 - accuracy: 0.7683\n",
      "Epoch 33/70\n",
      "1563/1563 [==============================] - 44s 28ms/step - loss: 0.6553 - accuracy: 0.7776\n",
      "Epoch 34/70\n",
      "1563/1563 [==============================] - 43s 28ms/step - loss: 0.6317 - accuracy: 0.7893\n",
      "Epoch 35/70\n",
      "1563/1563 [==============================] - 42s 27ms/step - loss: 0.6064 - accuracy: 0.7955\n",
      "Epoch 36/70\n",
      "1563/1563 [==============================] - 44s 28ms/step - loss: 0.5862 - accuracy: 0.8019\n",
      "Epoch 37/70\n",
      "1563/1563 [==============================] - 42s 27ms/step - loss: 0.5630 - accuracy: 0.8105\n",
      "Epoch 38/70\n",
      "1563/1563 [==============================] - 43s 28ms/step - loss: 0.5371 - accuracy: 0.8245\n",
      "Epoch 39/70\n",
      "1563/1563 [==============================] - 43s 28ms/step - loss: 0.5145 - accuracy: 0.8311\n",
      "Epoch 40/70\n",
      "1563/1563 [==============================] - 53s 34ms/step - loss: 0.4911 - accuracy: 0.8394\n",
      "Epoch 41/70\n",
      "1563/1563 [==============================] - 45s 29ms/step - loss: 0.4693 - accuracy: 0.8490\n",
      "Epoch 42/70\n",
      "1563/1563 [==============================] - 43s 27ms/step - loss: 0.4478 - accuracy: 0.8546\n",
      "Epoch 43/70\n",
      "1563/1563 [==============================] - 42s 27ms/step - loss: 0.4274 - accuracy: 0.8632\n",
      "Epoch 44/70\n",
      "1563/1563 [==============================] - 42s 27ms/step - loss: 0.4046 - accuracy: 0.8721\n",
      "Epoch 45/70\n",
      "1563/1563 [==============================] - 43s 27ms/step - loss: 0.3870 - accuracy: 0.8772\n",
      "Epoch 46/70\n",
      "1563/1563 [==============================] - 43s 27ms/step - loss: 0.3676 - accuracy: 0.8836\n",
      "Epoch 47/70\n",
      "1563/1563 [==============================] - 43s 27ms/step - loss: 0.3485 - accuracy: 0.8916\n",
      "Epoch 48/70\n",
      "1563/1563 [==============================] - 43s 27ms/step - loss: 0.3325 - accuracy: 0.8986\n",
      "Epoch 49/70\n",
      "1563/1563 [==============================] - 43s 27ms/step - loss: 0.3128 - accuracy: 0.9034\n",
      "Epoch 50/70\n",
      "1563/1563 [==============================] - 43s 27ms/step - loss: 0.2945 - accuracy: 0.9115\n",
      "Epoch 51/70\n",
      "1563/1563 [==============================] - 43s 27ms/step - loss: 0.2780 - accuracy: 0.9180\n",
      "Epoch 52/70\n",
      "1563/1563 [==============================] - 43s 27ms/step - loss: 0.2652 - accuracy: 0.9216\n",
      "Epoch 53/70\n",
      "1563/1563 [==============================] - 40s 26ms/step - loss: 0.2474 - accuracy: 0.9279\n",
      "Epoch 54/70\n",
      "1563/1563 [==============================] - 40s 26ms/step - loss: 0.2361 - accuracy: 0.9330\n",
      "Epoch 55/70\n",
      "1563/1563 [==============================] - 40s 26ms/step - loss: 0.2189 - accuracy: 0.9386\n",
      "Epoch 56/70\n",
      "1563/1563 [==============================] - 40s 26ms/step - loss: 0.2066 - accuracy: 0.9425\n",
      "Epoch 57/70\n",
      "1563/1563 [==============================] - 40s 26ms/step - loss: 0.1921 - accuracy: 0.9485\n",
      "Epoch 58/70\n",
      "1563/1563 [==============================] - 40s 26ms/step - loss: 0.1805 - accuracy: 0.9514\n",
      "Epoch 59/70\n",
      "1563/1563 [==============================] - 40s 26ms/step - loss: 0.1674 - accuracy: 0.9563\n",
      "Epoch 60/70\n",
      "1563/1563 [==============================] - 43s 27ms/step - loss: 0.1582 - accuracy: 0.9600\n",
      "Epoch 61/70\n",
      "1563/1563 [==============================] - 40s 26ms/step - loss: 0.1502 - accuracy: 0.9632\n",
      "Epoch 62/70\n",
      "1563/1563 [==============================] - 42s 27ms/step - loss: 0.1355 - accuracy: 0.9671\n",
      "Epoch 63/70\n",
      "1563/1563 [==============================] - 44s 28ms/step - loss: 0.1286 - accuracy: 0.9696\n",
      "Epoch 64/70\n",
      "1563/1563 [==============================] - 43s 28ms/step - loss: 0.1178 - accuracy: 0.9737\n",
      "Epoch 65/70\n",
      "1563/1563 [==============================] - 47s 30ms/step - loss: 0.1112 - accuracy: 0.9738\n",
      "Epoch 66/70\n",
      "1563/1563 [==============================] - 49s 31ms/step - loss: 0.1013 - accuracy: 0.9782\n",
      "Epoch 67/70\n",
      "1563/1563 [==============================] - 52s 33ms/step - loss: 0.0938 - accuracy: 0.9806\n",
      "Epoch 68/70\n",
      "1563/1563 [==============================] - 52s 34ms/step - loss: 0.0867 - accuracy: 0.9820\n",
      "Epoch 69/70\n",
      "1563/1563 [==============================] - 53s 34ms/step - loss: 0.0836 - accuracy: 0.9828\n",
      "Epoch 70/70\n",
      "1563/1563 [==============================] - 67s 43ms/step - loss: 0.0760 - accuracy: 0.9856\n"
     ]
    },
    {
     "data": {
      "text/plain": [
       "<keras.src.callbacks.History at 0x13bac7f40>"
      ]
     },
     "execution_count": 46,
     "metadata": {},
     "output_type": "execute_result"
    }
   ],
   "source": [
    "model = keras.Sequential(\n",
    "    [\n",
    "        keras.layers.Flatten(input_shape=(32,32,3)),\n",
    "        keras.layers.Dense(3000,activation='relu'),\n",
    "        keras.layers.Dense(1000,activation='relu'),\n",
    "        keras.layers.Dense(10, activation='sigmoid')\n",
    "    ]\n",
    ")\n",
    "\n",
    "model.compile(optimizer='SGD',\n",
    "              loss='categorical_crossentropy',\n",
    "              metrics=['accuracy'])\n",
    "model.fit(X_train_scaled,y_train_categorical,epochs=70)"
   ]
  },
  {
   "cell_type": "code",
   "execution_count": 48,
   "id": "59568cf1",
   "metadata": {},
   "outputs": [
    {
     "name": "stdout",
     "output_type": "stream",
     "text": [
      "313/313 [==============================] - 2s 7ms/step\n"
     ]
    }
   ],
   "source": [
    "predictions = model.predict(X_test_scaled)"
   ]
  },
  {
   "cell_type": "code",
   "execution_count": 67,
   "id": "efc3df91",
   "metadata": {},
   "outputs": [
    {
     "data": {
      "text/plain": [
       "'automobile'"
      ]
     },
     "execution_count": 67,
     "metadata": {},
     "output_type": "execute_result"
    }
   ],
   "source": [
    "classes[np.argmax(predictions[9])]"
   ]
  },
  {
   "cell_type": "code",
   "execution_count": 68,
   "id": "d8b5ee90",
   "metadata": {},
   "outputs": [
    {
     "data": {
      "text/plain": [
       "'automobile'"
      ]
     },
     "execution_count": 68,
     "metadata": {},
     "output_type": "execute_result"
    }
   ],
   "source": [
    "classes[y_test[9][0]]"
   ]
  }
 ],
 "metadata": {
  "kernelspec": {
   "display_name": "Python 3 (ipykernel)",
   "language": "python",
   "name": "python3"
  },
  "language_info": {
   "codemirror_mode": {
    "name": "ipython",
    "version": 3
   },
   "file_extension": ".py",
   "mimetype": "text/x-python",
   "name": "python",
   "nbconvert_exporter": "python",
   "pygments_lexer": "ipython3",
   "version": "3.10.9"
  }
 },
 "nbformat": 4,
 "nbformat_minor": 5
}
